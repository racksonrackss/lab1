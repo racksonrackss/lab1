{
  "cells": [
    {
      "cell_type": "markdown",
      "metadata": {
        "id": "M-DGa20PaHnu"
      },
      "source": [
        "#Задача 1\n",
        "Написать функцию на вход которой подается строка, состоящая из латинских букв.\n",
        "Функция должна вернуть количество гласных букв (a, e, i, o, u) в этой строке. Написать тесты для кода"
      ]
    },
    {
      "cell_type": "code",
      "execution_count": 19,
      "metadata": {
        "id": "XvX8X_JJ6PCb"
      },
      "outputs": [
        {
          "name": "stdout",
          "output_type": "stream",
          "text": [
            "Все тесты пройдены\n"
          ]
        }
      ],
      "source": [
        "def vowel_letters_count(string):\n",
        "    vowels = \"aeiouAEIOU\"\n",
        "    count = sum(1 for char in string if char in vowels)\n",
        "    return count\n",
        "\n",
        "def test_vowel_letters_count():\n",
        "    assert vowel_letters_count(\"Hello, world!\") == 3, 'Тест с \"Hello, world!\" не пройден'\n",
        "    assert vowel_letters_count(\"aeiouAEIOU\") == 10, 'Тест с \"Hello, world!\" не пройден'\n",
        "    assert vowel_letters_count(\"Laboratornaya\") == 6, 'Тест с \"Hello, world!\" не пройден'\n",
        "\n",
        "    print(\"Все тесты пройдены\")\n",
        "    \n",
        "test_vowel_letters_count()"
      ]
    },
    {
      "cell_type": "markdown",
      "metadata": {
        "id": "t2ClV_Y0bbr6"
      },
      "source": [
        "# Задача 2\n",
        "Написать функцию на вход, которой подается строка. Функция должна вернуть true, если\n",
        "каждый символ в строке встречается только 1 раз, иначе должна вернуть false. Написать тесты для кода"
      ]
    },
    {
      "cell_type": "code",
      "execution_count": 15,
      "metadata": {
        "id": "FppbECao6VIz"
      },
      "outputs": [
        {
          "name": "stdout",
          "output_type": "stream",
          "text": [
            "Все тесты пройдены\n"
          ]
        }
      ],
      "source": [
        "def unique_chars(string):\n",
        "    return len(string) == len(set(string))\n",
        "\n",
        "def test_unique_chars():\n",
        "    assert unique_chars(\"Hello\") == False, \"Тест с 'Hello' не пройден\"\n",
        "    assert unique_chars(\"abcdef\") == True, \"Тест с 'abcdef' не пройден\"\n",
        "    assert unique_chars(\"aabbcc\") == False, \"Тест с 'aabbcc' не пройден\"\n",
        "    assert unique_chars(\"\") == True, \"Тест с '' не пройден\"\n",
        "\n",
        "    print(\"Все тесты пройдены\")\n",
        "\n",
        "test_unique_chars()"
      ]
    },
    {
      "cell_type": "markdown",
      "metadata": {
        "id": "udRiIK1cdt6E"
      },
      "source": [
        "# Задача 3\n",
        "Написать функцию, которая принимает положительное число и возвращает количество\n",
        "бит равных 1 в этом числе. Написать тесты для кода"
      ]
    },
    {
      "cell_type": "code",
      "execution_count": 18,
      "metadata": {
        "id": "6tkfDJRz6dp_"
      },
      "outputs": [
        {
          "name": "stdout",
          "output_type": "stream",
          "text": [
            "Все тесты пройдены\n"
          ]
        }
      ],
      "source": [
        "def count_bits(number):\n",
        "    return bin(number).count('1')\n",
        "\n",
        "def test_count_bits():\n",
        "    assert count_bits(0) == 0, \"Тест с '0' не пройден\"\n",
        "    assert count_bits(1) == 1, \"Тест с '1' не пройден\"\n",
        "    assert count_bits(5) == 2, \"Тест с '5' не пройден\"\n",
        "    assert count_bits(7) == 3, \"Тест с '7' не пройден\"\n",
        "    assert count_bits(8) == 1, \"Тест с '8' не пройден\"\n",
        "\n",
        "    print(\"Все тесты пройдены\")\n",
        "\n",
        "test_count_bits()"
      ]
    },
    {
      "cell_type": "markdown",
      "metadata": {
        "id": "26dDUz-Ae17N"
      },
      "source": [
        "# Задача 4\n",
        "Написать функцию, которая принимает положительное число. Функция должна вернуть то,\n",
        "сколько раз необходимо перемножать цифры числа или результат перемножения, чтобы\n",
        "получилось число состоящее из одной цифры.\n",
        "Например, для входного числа:\n",
        "· 39 функция должна вернуть 3, так как 3*9=27 => 2*7=14 => 1*4=4\n",
        "· 4 функция должна вернуть 0, так как число уже состоит из одной цифры\n",
        "· 999 функция должна вернуть 4, так как 9*9*9=729 => 7*2*9=126 => 1*2*6=12 =>\n",
        "1*2=2. Написать тесты для кода"
      ]
    },
    {
      "cell_type": "code",
      "execution_count": 25,
      "metadata": {
        "id": "BH1A_Mgi6i4G"
      },
      "outputs": [
        {
          "name": "stdout",
          "output_type": "stream",
          "text": [
            "Все тесты пройдены\n"
          ]
        }
      ],
      "source": [
        "def magic(n):\n",
        "    count = 0\n",
        "    while n > 10:\n",
        "        n = multiply_digits(n)\n",
        "        count += 1\n",
        "    return count\n",
        "\n",
        "def multiply_digits(n):\n",
        "    res = 1\n",
        "    while n > 0:\n",
        "        res *= n % 10\n",
        "        n //= 10\n",
        "    return res\n",
        "\n",
        "def test_magic():\n",
        "    assert magic(39) == 3, \"Тест с '39' не пройден\"\n",
        "    assert magic(4) == 0, \"Тест с '4' не пройден\"\n",
        "    assert magic(123456) == 2, \"Тест с '123456' не пройден\"\n",
        "\n",
        "    print(\"Все тесты пройдены\")\n",
        "\n",
        "test_magic()"
      ]
    },
    {
      "cell_type": "markdown",
      "metadata": {
        "id": "0nS-kIa8g8vd"
      },
      "source": [
        "# Задача 5\n",
        "Написать функцию, которая принимает два целочисленных вектора одинаковой длины и\n",
        "возвращает среднеквадратическое отклонение двух векторов. Написать тесты для кода"
      ]
    },
    {
      "cell_type": "code",
      "execution_count": 28,
      "metadata": {
        "id": "8iphx4LM6xbx"
      },
      "outputs": [
        {
          "name": "stdout",
          "output_type": "stream",
          "text": [
            "Все тесты пройдены\n"
          ]
        }
      ],
      "source": [
        "import math\n",
        "\n",
        "def mse(pred, true):\n",
        "    if len(pred) != len(true):\n",
        "        raise ValueError(\"Векторы должны быть одинаковой длины\")\n",
        "    \n",
        "    squared_diffs = [(x - y) ** 2 for x, y in zip(pred, true)]\n",
        "    mean_squared_diff = sum(squared_diffs) / len(pred)\n",
        "    \n",
        "    return mean_squared_diff\n",
        "\n",
        "def test_mse():\n",
        "    assert mse([1, 2, 3], [1, 2, 3]) == 0.0, \"Тест с [1, 2, 3] и [1, 2, 3] не пройден\"\n",
        "    assert mse([2, 2, 2], [1, 2, 3]) == 2/3, \"Тест с [2, 2, 2] и [1, 2, 3] не пройден\"\n",
        "    assert mse([4, 5, 6], [1, 2, 3]) == 9.0, \"Тест с [4, 5, 6] и [1, 2, 3] не пройден\"\n",
        "\n",
        "    print(\"Все тесты пройдены\")\n",
        "\n",
        "test_mse()"
      ]
    },
    {
      "cell_type": "markdown",
      "metadata": {
        "id": "vpIPKL439zkw"
      },
      "source": [
        "# Задача 6\n",
        "Написать функцию, принимающая целое положительное число. Функция должна вернуть\n",
        "строку вида “(n1**p1)(n2**p2)…(nk**pk)” представляющая разложение числа на простые\n",
        "множители (если pi == 1, то выводить только ni).\n",
        "Например, для числа 86240 функция должна вернуть “(2**5)(5)(7**2)(11)”. Написать тесты для кода"
      ]
    },
    {
      "cell_type": "code",
      "execution_count": 33,
      "metadata": {
        "id": "pFebmcZk94Jw"
      },
      "outputs": [
        {
          "name": "stdout",
          "output_type": "stream",
          "text": [
            "Все тесты пройдены\n"
          ]
        }
      ],
      "source": [
        "def prime_factors_decomposition(n):\n",
        "    def get_prime_factors(n):\n",
        "        factors = {}\n",
        "        divisor = 2\n",
        "        while n > 1:\n",
        "            while n % divisor == 0:\n",
        "                if divisor in factors:\n",
        "                    factors[divisor] += 1\n",
        "                else:\n",
        "                    factors[divisor] = 1\n",
        "                n //= divisor\n",
        "            divisor += 1\n",
        "        return factors\n",
        "\n",
        "    factors = get_prime_factors(n)\n",
        "    result = []\n",
        "    for prime, power in sorted(factors.items()):\n",
        "        if power == 1:\n",
        "            result.append(f\"({prime})\")\n",
        "        else:\n",
        "            result.append(f\"({prime}**{power})\")\n",
        "    return ''.join(result)\n",
        "\n",
        "def test_prime_factors_decomposition():\n",
        "    assert prime_factors_decomposition(86240) == \"(2**5)(5)(7**2)(11)\", \"Тест с '86420' не пройден\"\n",
        "    assert prime_factors_decomposition(60) == \"(2**2)(3)(5)\", \"Тест с '60' не пройден\"\n",
        "    assert prime_factors_decomposition(13) == \"(13)\", \"Тест с '13' не пройден\"\n",
        "    assert prime_factors_decomposition(100) == \"(2**2)(5**2)\", \"Тест с '100' не пройден\"\n",
        "    assert prime_factors_decomposition(1) == \"\", \"Тест с '1' не пройден\"\n",
        "    \n",
        "    print(\"Все тесты пройдены\")\n",
        "\n",
        "test_prime_factors_decomposition()\n"
      ]
    },
    {
      "cell_type": "markdown",
      "metadata": {
        "id": "ps2s0BudX7A2"
      },
      "source": [
        "# Задача 7\n",
        "Написать функцию, принимающая целое число n, задающее количество кубиков. Функция\n",
        "должна определить, можно ли из данного кол-ва кубиков построить пирамиду, то есть\n",
        "можно ли представить число n как 1^2+2^2+3^2+…+k^2. Если можно, то функция должна\n",
        "вернуть k, иначе строку “It is impossible”. Написать тесты для кода"
      ]
    },
    {
      "cell_type": "code",
      "execution_count": 50,
      "metadata": {
        "id": "3YPjEXxhX_YT"
      },
      "outputs": [
        {
          "name": "stdout",
          "output_type": "stream",
          "text": [
            "Все тесты пройдены\n"
          ]
        }
      ],
      "source": [
        "def pyramid(number):\n",
        "    total_cubes = 0\n",
        "    k = 0\n",
        "\n",
        "    while total_cubes < number:\n",
        "        k += 1\n",
        "        total_cubes += k ** 2\n",
        "\n",
        "    if total_cubes == number:\n",
        "        return k\n",
        "    else:\n",
        "        return \"It is impossible\"\n",
        "    \n",
        "def test_pyramid():\n",
        "    assert pyramid(14) == 3, \"Тест с '14' не пройден\"\n",
        "    assert pyramid(6) == \"It is impossible\", \"Тест с '5' не пройден\"\n",
        "    assert pyramid(30) == 4, \"Тест с '30' не пройден\"\n",
        "    assert pyramid(1) == 1, \"Тест с '1' не пройден\"\n",
        "\n",
        "    print(\"Все тесты пройдены\")\n",
        "\n",
        "test_pyramid()"
      ]
    },
    {
      "cell_type": "markdown",
      "metadata": {
        "id": "KeKgmIdAQMEJ"
      },
      "source": [
        "# Задача 8\n",
        "Функция принимает на вход положительное число и определяет является ли оно сбалансированным, т.е. сумма цифр до средних равна сумме цифр после. Средними в случае нечетного числа цифр считать одну цифру, в случае четного - две средних. Написать тесты для кода"
      ]
    },
    {
      "cell_type": "code",
      "execution_count": 51,
      "metadata": {
        "id": "gMAAqtqlQrZt"
      },
      "outputs": [
        {
          "name": "stdout",
          "output_type": "stream",
          "text": [
            "Все тесты пройдены\n"
          ]
        }
      ],
      "source": [
        "def is_balanced(number):\n",
        "    digits = list(map(int, str(number)))\n",
        "    length = len(digits)\n",
        "    \n",
        "    if length < 2:\n",
        "        return True\n",
        "    \n",
        "    mid = length // 2\n",
        "\n",
        "    if length % 2 == 0:\n",
        "        left_sum = sum(digits[:mid - 1])\n",
        "        right_sum = sum(digits[mid + 1:])\n",
        "    else:\n",
        "        left_sum = sum(digits[:mid])\n",
        "        right_sum = sum(digits[mid + 1:])\n",
        "    \n",
        "    return left_sum == right_sum\n",
        "\n",
        "def test_is_balanced():\n",
        "    assert is_balanced(12321) == True, \"Тест с '12321' не пройден\"\n",
        "    assert is_balanced(123321) == True, \"Тест с '123321' не пройден\"\n",
        "    assert is_balanced(123456) == False, \"Тест с '123456' не пройден\"\n",
        "    assert is_balanced(1) == True, \"Тест с '1' не пройден\"\n",
        "    assert is_balanced(11) == True, \"Тест с '11' не пройден\"\n",
        "\n",
        "    print(\"Все тесты пройдены\")\n",
        "\n",
        "test_is_balanced()"
      ]
    }
  ],
  "metadata": {
    "colab": {
      "provenance": []
    },
    "kernelspec": {
      "display_name": "Python 3",
      "name": "python3"
    },
    "language_info": {
      "codemirror_mode": {
        "name": "ipython",
        "version": 3
      },
      "file_extension": ".py",
      "mimetype": "text/x-python",
      "name": "python",
      "nbconvert_exporter": "python",
      "pygments_lexer": "ipython3",
      "version": "3.12.1"
    }
  },
  "nbformat": 4,
  "nbformat_minor": 0
}
